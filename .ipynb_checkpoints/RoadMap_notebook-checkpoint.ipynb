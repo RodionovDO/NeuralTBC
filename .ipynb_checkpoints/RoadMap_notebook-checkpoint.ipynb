{
 "cells": [
  {
   "cell_type": "markdown",
   "id": "742d45e9-6470-41b4-99b0-fe6d9f6a7a72",
   "metadata": {},
   "source": [
    "### 0. Analytical Preprocessor"
   ]
  },
  {
   "cell_type": "markdown",
   "id": "6c2c3c60-81de-493d-9381-5cd194a3c25d",
   "metadata": {},
   "source": [
    "### 1. Neural Network approximator"
   ]
  },
  {
   "cell_type": "markdown",
   "id": "36b3d410-c845-4dc4-a8db-f7f3a737e397",
   "metadata": {},
   "source": [
    "### 2. Neural Network approximator postprocessor"
   ]
  },
  {
   "cell_type": "markdown",
   "id": "6352c591-3fe5-4b9f-9a10-94e875eb2f13",
   "metadata": {},
   "source": [
    "### А зачем вычислять напрямую? Напишем утилиту, которая считает обратного Лапласа и будем считать точность в оригинале через Sympy"
   ]
  },
  {
   "cell_type": "code",
   "execution_count": null,
   "id": "3b9e3c54-2d40-49d9-bef6-f4a68c6c274d",
   "metadata": {},
   "outputs": [],
   "source": [
    "ww = apart(nsimplify(g/f), domain=\"QQ\", full = True).evalf()"
   ]
  },
  {
   "cell_type": "code",
   "execution_count": null,
   "id": "460a262f-9918-4add-a6ca-388aed185339",
   "metadata": {},
   "outputs": [],
   "source": [
    "plot(inverse_laplace_transform(ww, x, t), (t, 0, 10))"
   ]
  },
  {
   "cell_type": "code",
   "execution_count": null,
   "id": "e1128a1e-ec72-4d11-9918-379d46a23998",
   "metadata": {},
   "outputs": [],
   "source": [
    "a = [-0.01623507027244887e-1-0.1437109079260408j,\n",
    "     0.7826292442916951e-1 -0.1829214910157083j, \n",
    "     0.2121204702737868-0.1358417533143851j,\n",
    "     -0.001079435901285914 +0.9031972953222432e-5j,\n",
    "     ]"
   ]
  },
  {
   "cell_type": "markdown",
   "id": "17c8f0a0-d41d-4b7a-8bcf-8ee2b34324ab",
   "metadata": {},
   "source": [
    "### 3. PDE Solver\n"
   ]
  }
 ],
 "metadata": {
  "kernelspec": {
   "display_name": "Python 3 (ipykernel)",
   "language": "python",
   "name": "python3"
  },
  "language_info": {
   "codemirror_mode": {
    "name": "ipython",
    "version": 3
   },
   "file_extension": ".py",
   "mimetype": "text/x-python",
   "name": "python",
   "nbconvert_exporter": "python",
   "pygments_lexer": "ipython3",
   "version": "3.12.3"
  }
 },
 "nbformat": 4,
 "nbformat_minor": 5
}
